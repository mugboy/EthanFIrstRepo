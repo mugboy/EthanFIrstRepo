{
 "cells": [
  {
   "cell_type": "markdown",
   "metadata": {},
   "source": [
    "```mermaid\n",
    "sequenceDiagram\n",
    "Ethan ->> Daniel: Wanna do GitHub\n",
    "Daniel ->> Ethan: I don't know, maybe\n",
    "Ethan ->> Daniel: IDNGI\n",
    "Daniel ->> Ethan: The legend please\n",
    "Ethan ->> Daniel: I do not get it\n",
    "```"
   ]
  }
 ],
 "metadata": {
  "language_info": {
   "name": "python"
  }
 },
 "nbformat": 4,
 "nbformat_minor": 2
}
